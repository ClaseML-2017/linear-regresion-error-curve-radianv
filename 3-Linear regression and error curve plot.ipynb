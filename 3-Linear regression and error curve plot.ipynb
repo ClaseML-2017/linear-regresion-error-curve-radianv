{
 "cells": [
  {
   "cell_type": "markdown",
   "metadata": {},
   "source": [
    "# Asignación 3. Linear regression and error curve plot\n",
    "\n",
    "\n",
    "* Se Buscaran determinar el valor de Y para datos nuevos \n",
    "    (X 1 ,y 1 ), (X 2 ,y 2 ),...(X n ,y n ) \n",
    "* Se intenta estimar V aproximando a la recta o plano"
   ]
  },
  {
   "cell_type": "code",
   "execution_count": 1,
   "metadata": {
    "collapsed": true
   },
   "outputs": [],
   "source": [
    "import matplotlib.pyplot as plt\n",
    "import numpy as np\n",
    "import pandas as pd\n",
    "from sklearn import linear_model\n",
    "from sklearn.model_selection import train_test_split\n",
    "from sklearn.metrics import mean_squared_error, r2_score"
   ]
  },
  {
   "cell_type": "code",
   "execution_count": 2,
   "metadata": {},
   "outputs": [
    {
     "name": "stdout",
     "output_type": "stream",
     "text": [
      "/home/itam/machineLearning\r\n",
      "total 1272\r\n",
      "-rw-r--r-- 1 itam users 754845 Sep 14 16:11 EjercicioROC.csv\r\n",
      "-rw-r--r-- 1 itam users     50 Sep  7 17:18 andSVM.csv\r\n",
      "-rw-r--r-- 1 itam users  24483 Sep  7 17:18 regLin.csv\r\n",
      "-rw-r--r-- 1 itam users 374795 Sep  7 17:18 regLin.xlsx\r\n",
      "-rw-r--r-- 1 itam users  24467 Sep  7 17:18 regLin2.csv\r\n",
      "-rw-r--r-- 1 itam users  24961 Sep  7 17:18 regLin3.csv\r\n",
      "-rw-r--r-- 1 itam users  14299 Sep  7 17:18 regLin4.csv\r\n",
      "-rw-r--r-- 1 itam users  66015 Sep  7 17:18 regLinPoli.csv\r\n"
     ]
    }
   ],
   "source": [
    "#LIstamos los datos y verificamos que tengamos la fuente \"regLinPoli.csv\"\n",
    "!pwd && ls MaterialyTareas/datos/ -l"
   ]
  },
  {
   "cell_type": "code",
   "execution_count": 3,
   "metadata": {},
   "outputs": [
    {
     "data": {
      "text/html": [
       "<div>\n",
       "<style>\n",
       "    .dataframe thead tr:only-child th {\n",
       "        text-align: right;\n",
       "    }\n",
       "\n",
       "    .dataframe thead th {\n",
       "        text-align: left;\n",
       "    }\n",
       "\n",
       "    .dataframe tbody tr th {\n",
       "        vertical-align: top;\n",
       "    }\n",
       "</style>\n",
       "<table border=\"1\" class=\"dataframe\">\n",
       "  <thead>\n",
       "    <tr style=\"text-align: right;\">\n",
       "      <th></th>\n",
       "      <th>X</th>\n",
       "      <th>y</th>\n",
       "    </tr>\n",
       "  </thead>\n",
       "  <tbody>\n",
       "    <tr>\n",
       "      <th>0</th>\n",
       "      <td>35.657897</td>\n",
       "      <td>28.074403</td>\n",
       "    </tr>\n",
       "    <tr>\n",
       "      <th>1</th>\n",
       "      <td>48.685931</td>\n",
       "      <td>36.674434</td>\n",
       "    </tr>\n",
       "    <tr>\n",
       "      <th>2</th>\n",
       "      <td>95.861773</td>\n",
       "      <td>67.903577</td>\n",
       "    </tr>\n",
       "    <tr>\n",
       "      <th>3</th>\n",
       "      <td>25.997253</td>\n",
       "      <td>11.931727</td>\n",
       "    </tr>\n",
       "    <tr>\n",
       "      <th>4</th>\n",
       "      <td>49.964772</td>\n",
       "      <td>30.286144</td>\n",
       "    </tr>\n",
       "  </tbody>\n",
       "</table>\n",
       "</div>"
      ],
      "text/plain": [
       "           X          y\n",
       "0  35.657897  28.074403\n",
       "1  48.685931  36.674434\n",
       "2  95.861773  67.903577\n",
       "3  25.997253  11.931727\n",
       "4  49.964772  30.286144"
      ]
     },
     "execution_count": 3,
     "metadata": {},
     "output_type": "execute_result"
    }
   ],
   "source": [
    "#Leemos el archivo y presentamos el contenido de las variables.\n",
    "df_LR = pd.read_csv(\"MaterialyTareas/datos/regLin.csv\")\n",
    "df_LR.head()"
   ]
  },
  {
   "cell_type": "code",
   "execution_count": null,
   "metadata": {},
   "outputs": [],
   "source": []
  },
  {
   "cell_type": "code",
   "execution_count": 4,
   "metadata": {
    "collapsed": true
   },
   "outputs": [],
   "source": [
    "# Hacemos e Split de los datos en training/testing datasets\n",
    "df_LR_X_train, df_LR_X_test, df_LR_Y_train, df_LR_Y_test = train_test_split(df_LR[['X']], df_LR[['y']], test_size=0.33, random_state=42)\n"
   ]
  },
  {
   "cell_type": "code",
   "execution_count": 5,
   "metadata": {
    "collapsed": true
   },
   "outputs": [],
   "source": [
    "\n",
    "# Creamos el objeto regresión Lineal \n",
    "regr = linear_model.LinearRegression()\n",
    "\n"
   ]
  },
  {
   "cell_type": "code",
   "execution_count": 6,
   "metadata": {},
   "outputs": [
    {
     "data": {
      "text/plain": [
       "LinearRegression(copy_X=True, fit_intercept=True, n_jobs=1, normalize=False)"
      ]
     },
     "execution_count": 6,
     "metadata": {},
     "output_type": "execute_result"
    }
   ],
   "source": [
    "# Entrenamos el Modelo usando el DataSet de Entrenamiento\n",
    "regr.fit(df_LR_X_train, df_LR_Y_train)\n",
    "\n"
   ]
  },
  {
   "cell_type": "code",
   "execution_count": 7,
   "metadata": {
    "collapsed": true
   },
   "outputs": [],
   "source": [
    "\n",
    "df_LR_Y_pred = regr.predict(df_LR_X_test)"
   ]
  },
  {
   "cell_type": "code",
   "execution_count": 8,
   "metadata": {},
   "outputs": [
    {
     "name": "stdout",
     "output_type": "stream",
     "text": [
      "Coefficients: [[ 0.60381877]]\n",
      "Intercept: [ 2.55109819]\n",
      "Mean squared error: 16.5543\n",
      "Variance score: 0.95\n"
     ]
    }
   ],
   "source": [
    "# The coefficients\n",
    "print('Coefficients:', regr.coef_)\n",
    "print('Intercept:', regr.intercept_)\n",
    "# Erro cuadratico\n",
    "print(\"Mean squared error: %.4f\"\n",
    "      % mean_squared_error(df_LR_Y_test, df_LR_Y_pred))\n",
    "# Revizamos la varianza: 1 is perfect prediction\n",
    "print('Variance score: %.2f' % r2_score(df_LR_Y_test, df_LR_Y_pred))\n"
   ]
  },
  {
   "cell_type": "markdown",
   "metadata": {},
   "source": [
    "### Sacamos los valores para W0 y W1"
   ]
  },
  {
   "cell_type": "code",
   "execution_count": 9,
   "metadata": {
    "collapsed": true
   },
   "outputs": [],
   "source": [
    "W0 = np.linspace(regr.intercept_[0]-1.5,regr.intercept_[0]+1.5,100)\n",
    "\n",
    "W1 = np.linspace(regr.coef_[0][0]-1,regr.coef_[0][0]+1,100)"
   ]
  },
  {
   "cell_type": "code",
   "execution_count": 10,
   "metadata": {
    "collapsed": true
   },
   "outputs": [],
   "source": [
    "\n",
    "Wcoef = regr.coef_[0][0]\n",
    "\n",
    "Winter= regr.intercept_[0]"
   ]
  },
  {
   "cell_type": "markdown",
   "metadata": {},
   "source": [
    "### Sacamos el Error y Error cuadratico W0"
   ]
  },
  {
   "cell_type": "code",
   "execution_count": 11,
   "metadata": {
    "collapsed": true
   },
   "outputs": [],
   "source": [
    "Werr = [np.mean((i+Wcoef*df_LR_X_train - np.array(df_LR_Y_train))**2) for i in W0]\n",
    "\n",
    "Wsqr = np.mean((regr.intercept_[0]+Wcoef*df_LR_X_train - np.array(df_LR_Y_train))**2)"
   ]
  },
  {
   "cell_type": "markdown",
   "metadata": {},
   "source": [
    "### Revisamos el error para W0"
   ]
  },
  {
   "cell_type": "code",
   "execution_count": 12,
   "metadata": {},
   "outputs": [
    {
     "data": {
      "image/png": "[encoded data removed]",
      "text/plain": [
       "<matplotlib.figure.Figure at 0x7f557550b128>"
      ]
     },
     "metadata": {},
     "output_type": "display_data"
    }
   ],
   "source": [
    "plt.scatter(W0, Werr,  color='black')\n",
    "plt.plot(regr.intercept_[0], Wsqr, 'p-', color = 'red')\n",
    "plt.show()"
   ]
  },
  {
   "cell_type": "markdown",
   "metadata": {},
   "source": [
    "### Sacamos el Error y Error cuadratico W1"
   ]
  },
  {
   "cell_type": "code",
   "execution_count": 13,
   "metadata": {
    "collapsed": true
   },
   "outputs": [],
   "source": [
    "Werr = [np.mean((Winter+i*df_LR_X_train - np.array(df_LR_Y_train))**2) for i in W1]\n",
    "\n",
    "Wsqr = np.mean((regr.intercept_[0]+Wcoef*df_LR_X_train - np.array(df_LR_Y_train))**2)"
   ]
  },
  {
   "cell_type": "markdown",
   "metadata": {},
   "source": [
    "### Revisamos el error para W1"
   ]
  },
  {
   "cell_type": "code",
   "execution_count": 14,
   "metadata": {
    "scrolled": true
   },
   "outputs": [
    {
     "data": {
      "image/png": "[encoded data removed]",
      "text/plain": [
       "<matplotlib.figure.Figure at 0x7f557550b438>"
      ]
     },
     "metadata": {},
     "output_type": "display_data"
    }
   ],
   "source": [
    "plt.scatter(W1, Werr,  color='black')\n",
    "plt.plot(Wcoef, Wsqr, 'p-', color = 'red')\n",
    "plt.show()"
   ]
  },
  {
   "cell_type": "markdown",
   "metadata": {},
   "source": [
    "### Plot de la Regresión Lineal"
   ]
  },
  {
   "cell_type": "code",
   "execution_count": 15,
   "metadata": {},
   "outputs": [
    {
     "data": {
      "image/png": "[encoded data removed]",
      "text/plain": [
       "<matplotlib.figure.Figure at 0x7f556fb7f080>"
      ]
     },
     "metadata": {},
     "output_type": "display_data"
    }
   ],
   "source": [
    "\n",
    "# Plot outputs\n",
    "plt.scatter(df_LR_X_test, df_LR_Y_test,  color='black')\n",
    "plt.plot(df_LR_X_test, df_LR_Y_pred, color='blue', linewidth=3)\n",
    "plt.show()"
   ]
  },
  {
   "cell_type": "code",
   "execution_count": null,
   "metadata": {
    "collapsed": true
   },
   "outputs": [],
   "source": []
  }
 ],
 "metadata": {
  "kernelspec": {
   "display_name": "Python 3",
   "language": "python",
   "name": "python3"
  },
  "language_info": {
   "codemirror_mode": {
    "name": "ipython",
    "version": 3
   },
   "file_extension": ".py",
   "mimetype": "text/x-python",
   "name": "python",
   "nbconvert_exporter": "python",
   "pygments_lexer": "ipython3",
   "version": "3.4.3"
  }
 },
 "nbformat": 4,
 "nbformat_minor": 2
}
